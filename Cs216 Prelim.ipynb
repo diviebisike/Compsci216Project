{
 "cells": [
  {
   "cell_type": "markdown",
   "id": "888f6856",
   "metadata": {},
   "source": [
    "<font size=\"6\">IMPORTING</font>"
   ]
  },
  {
   "cell_type": "code",
   "execution_count": 1,
   "id": "9d0b2c51",
   "metadata": {},
   "outputs": [],
   "source": [
    "import pandas as pd\n",
    "import numpy as np\n",
    "import matplotlib.pyplot as plt\n",
    "import seaborn as sns\n",
    "from sklearn.model_selection import train_test_split\n",
    "from sklearn.preprocessing import StandardScaler\n",
    "from sklearn.metrics import accuracy_score, classification_report, confusion_matrix\n",
    "import scipy\n"
   ]
  },
  {
   "cell_type": "code",
   "execution_count": 2,
   "id": "b24021a6",
   "metadata": {
    "scrolled": true
   },
   "outputs": [],
   "source": [
    "users = pd.read_csv('fatal_motor.csv')\n",
    "\n",
    "#ALCOHOL\n",
    "try:\n",
    "    # Read the CSV file\n",
    "    alc = pd.read_csv('alc-sev.csv', encoding='utf-16', delimiter='\\t')\n",
    "except pd.errors.ParserError as e:\n",
    "    print(\"Warning: Some lines were skipped due to parsing errors.\")\n",
    "    print(e)\n",
    "    \n",
    "    \n",
    "#DAY\n",
    "try:\n",
    "    # Read the CSV file\n",
    "    day_of = pd.read_csv('day-sev.csv', encoding='utf-16', delimiter='\\t')\n",
    "except pd.errors.ParserError as e:\n",
    "    print(\"Warning: Some lines were skipped due to parsing errors.\")\n",
    "    print(e)\n",
    " \n",
    "\n",
    "#AGES\n",
    "try:\n",
    "    # Read the CSV file\n",
    "    mid_age = pd.read_csv('65To75.csv', encoding='utf-16', delimiter='\\t')\n",
    "except pd.errors.ParserError as e:\n",
    "    print(\"Warning: Some lines were skipped due to parsing errors.\")\n",
    "    print(e)\n",
    "    \n",
    "try:\n",
    "    # Read the CSV file\n",
    "    old_age = pd.read_csv('75UP.csv', encoding='utf-16', delimiter='\\t')\n",
    "except pd.errors.ParserError as e:\n",
    "    print(\"Warning: Some lines were skipped due to parsing errors.\")\n",
    "    print(e)\n",
    "    \n",
    "try:\n",
    "    # Read the CSV file\n",
    "    teen_age = pd.read_csv('TeenCrash.csv', encoding='utf-16', delimiter='\\t')\n",
    "except pd.errors.ParserError as e:\n",
    "    print(\"Warning: Some lines were skipped due to parsing errors.\")\n",
    "    print(e)\n",
    "\n",
    "    \n",
    "#GENDER AND AGE\n",
    "try:\n",
    "    # Read the CSV file\n",
    "    gen_age = pd.read_csv('GenAge.csv', encoding='utf-16', delimiter='\\t')\n",
    "except pd.errors.ParserError as e:\n",
    "    print(\"Warning: Some lines were skipped due to parsing errors.\")\n",
    "    print(e)"
   ]
  },
  {
   "cell_type": "code",
   "execution_count": null,
   "id": "cf7e19b3",
   "metadata": {},
   "outputs": [],
   "source": []
  }
 ],
 "metadata": {
  "kernelspec": {
   "display_name": "Python 3 (ipykernel)",
   "language": "python",
   "name": "python3"
  },
  "language_info": {
   "codemirror_mode": {
    "name": "ipython",
    "version": 3
   },
   "file_extension": ".py",
   "mimetype": "text/x-python",
   "name": "python",
   "nbconvert_exporter": "python",
   "pygments_lexer": "ipython3",
   "version": "3.11.5"
  }
 },
 "nbformat": 4,
 "nbformat_minor": 5
}
